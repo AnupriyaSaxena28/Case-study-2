{
  "nbformat": 4,
  "nbformat_minor": 0,
  "metadata": {
    "colab": {
      "provenance": [],
      "authorship_tag": "ABX9TyPUkX+vLykc4DSu6JD1XwRX",
      "include_colab_link": true
    },
    "kernelspec": {
      "name": "python3",
      "display_name": "Python 3"
    },
    "language_info": {
      "name": "python"
    }
  },
  "cells": [
    {
      "cell_type": "markdown",
      "metadata": {
        "id": "view-in-github",
        "colab_type": "text"
      },
      "source": [
        "<a href=\"https://colab.research.google.com/github/AnupriyaSaxena28/Case-study-2/blob/main/Untitled1.ipynb\" target=\"_parent\"><img src=\"https://colab.research.google.com/assets/colab-badge.svg\" alt=\"Open In Colab\"/></a>"
      ]
    },
    {
      "cell_type": "code",
      "execution_count": null,
      "metadata": {
        "colab": {
          "base_uri": "https://localhost:8080/"
        },
        "id": "ZC7H5C1TDbkp",
        "outputId": "7e2e403a-6c3c-442a-d58e-5207f7bc7cca"
      },
      "outputs": [
        {
          "output_type": "stream",
          "name": "stdout",
          "text": [
            "Guess a number between 1-100\n",
            "Guess: 35\n",
            "Too low\n",
            "Guess: 50\n",
            "Too low\n",
            "Guess: 60\n",
            "Too low\n",
            "Guess: 80\n",
            "Too low\n",
            "Guess: 90\n",
            "Too low\n",
            "Guess: 97\n",
            "Correct! Attempts 6\n"
          ]
        }
      ],
      "source": [
        "import random\n",
        "\n",
        "secret = random.randint(1, 100)\n",
        "attempts = 0\n",
        "guess =0\n",
        "\n",
        "print(\"Guess a number between 1-100\")\n",
        "\n",
        "while secret!=guess :\n",
        "        guess = int(input(\"Guess: \"))\n",
        "        attempts = attempts + 1\n",
        "        if guess < secret:\n",
        "            print(\"Too low\")\n",
        "        elif guess > secret:\n",
        "            print(\"Too high\")\n",
        "        else:\n",
        "            print(\"Correct! Attempts\",attempts)\n",
        "            break\n"
      ]
    },
    {
      "cell_type": "markdown",
      "source": [],
      "metadata": {
        "id": "ZnNKs07gErlX"
      }
    },
    {
      "cell_type": "code",
      "source": [],
      "metadata": {
        "id": "_zMgFilgEr8T"
      },
      "execution_count": null,
      "outputs": []
    }
  ]
}